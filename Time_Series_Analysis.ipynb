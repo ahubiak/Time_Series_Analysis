{
 "cells": [
  {
   "cell_type": "markdown",
   "metadata": {},
   "source": [
    "# Project description\n",
    "\n",
    "Sweet Lift Taxi company has collected historical data on taxi orders at airports. To attract more drivers during peak hours, we need to predict the amount of taxi orders for the next hour. Build a model for such a prediction.\n",
    "\n",
    "The RMSE metric on the test set should not be more than 48.\n",
    "\n",
    "## Steps\n",
    "\n",
    "1. Download the data and resample it by one hour.\n",
    "2. Analyze the data.\n",
    "3. Train different models with different hyperparameters. The test sample will be 10% of the initial dataset. \n",
    "4. Test the data using the test sample and provide a conclusion.\n",
    "\n",
    "## Data description\n",
    "\n",
    "The data is stored in file `taxi.csv`. The number of orders is in the '*num_orders*' column."
   ]
  },
  {
   "cell_type": "markdown",
   "metadata": {},
   "source": [
    "## Preparation\n",
    "We will begin by loading in necessary libraries, then we will read in our data. We will view general information and then resample our data by one hour. We will group them together by the sum, as we are interested in the total number of taxi orders. "
   ]
  },
  {
   "cell_type": "code",
   "execution_count": 1,
   "metadata": {},
   "outputs": [],
   "source": [
    "import pandas as pd# Loading all the libraries\n",
    "import numpy as np\n",
    "import math as mt\n",
    "from matplotlib import pyplot as plt\n",
    "from statsmodels.tsa.seasonal import seasonal_decompose\n",
    "from sklearn.model_selection import train_test_split\n",
    "from sklearn.metrics import mean_squared_error\n",
    "from sklearn.linear_model import LinearRegression\n",
    "from sklearn.tree import DecisionTreeRegressor\n",
    "from sklearn.ensemble import RandomForestRegressor"
   ]
  },
  {
   "cell_type": "code",
   "execution_count": 2,
   "metadata": {},
   "outputs": [],
   "source": [
    "import warnings\n",
    "warnings.filterwarnings(\"ignore\")"
   ]
  },
  {
   "cell_type": "code",
   "execution_count": 3,
   "metadata": {},
   "outputs": [],
   "source": [
    "try:  #reading in data using a try-except clause\n",
    "    data = pd.read_csv('/datasets/taxi.csv', index_col=[0], parse_dates=[0])\n",
    "except:\n",
    "    print(\"File not found.\")"
   ]
  },
  {
   "cell_type": "code",
   "execution_count": 4,
   "metadata": {
    "scrolled": true
   },
   "outputs": [
    {
     "name": "stdout",
     "output_type": "stream",
     "text": [
      "<class 'pandas.core.frame.DataFrame'>\n",
      "DatetimeIndex: 26496 entries, 2018-03-01 00:00:00 to 2018-08-31 23:50:00\n",
      "Data columns (total 1 columns):\n",
      " #   Column      Non-Null Count  Dtype\n",
      "---  ------      --------------  -----\n",
      " 0   num_orders  26496 non-null  int64\n",
      "dtypes: int64(1)\n",
      "memory usage: 414.0 KB\n"
     ]
    }
   ],
   "source": [
    "data.info() #viewing general information"
   ]
  },
  {
   "cell_type": "code",
   "execution_count": 5,
   "metadata": {
    "scrolled": true
   },
   "outputs": [
    {
     "data": {
      "text/html": [
       "<div>\n",
       "<style scoped>\n",
       "    .dataframe tbody tr th:only-of-type {\n",
       "        vertical-align: middle;\n",
       "    }\n",
       "\n",
       "    .dataframe tbody tr th {\n",
       "        vertical-align: top;\n",
       "    }\n",
       "\n",
       "    .dataframe thead th {\n",
       "        text-align: right;\n",
       "    }\n",
       "</style>\n",
       "<table border=\"1\" class=\"dataframe\">\n",
       "  <thead>\n",
       "    <tr style=\"text-align: right;\">\n",
       "      <th></th>\n",
       "      <th>num_orders</th>\n",
       "    </tr>\n",
       "    <tr>\n",
       "      <th>datetime</th>\n",
       "      <th></th>\n",
       "    </tr>\n",
       "  </thead>\n",
       "  <tbody>\n",
       "    <tr>\n",
       "      <th>2018-03-01 00:00:00</th>\n",
       "      <td>9</td>\n",
       "    </tr>\n",
       "    <tr>\n",
       "      <th>2018-03-01 00:10:00</th>\n",
       "      <td>14</td>\n",
       "    </tr>\n",
       "    <tr>\n",
       "      <th>2018-03-01 00:20:00</th>\n",
       "      <td>28</td>\n",
       "    </tr>\n",
       "    <tr>\n",
       "      <th>2018-03-01 00:30:00</th>\n",
       "      <td>20</td>\n",
       "    </tr>\n",
       "    <tr>\n",
       "      <th>2018-03-01 00:40:00</th>\n",
       "      <td>32</td>\n",
       "    </tr>\n",
       "  </tbody>\n",
       "</table>\n",
       "</div>"
      ],
      "text/plain": [
       "                     num_orders\n",
       "datetime                       \n",
       "2018-03-01 00:00:00           9\n",
       "2018-03-01 00:10:00          14\n",
       "2018-03-01 00:20:00          28\n",
       "2018-03-01 00:30:00          20\n",
       "2018-03-01 00:40:00          32"
      ]
     },
     "execution_count": 5,
     "metadata": {},
     "output_type": "execute_result"
    }
   ],
   "source": [
    "data.head() #taking a look at the first few rows"
   ]
  },
  {
   "cell_type": "code",
   "execution_count": 6,
   "metadata": {},
   "outputs": [],
   "source": [
    "data = data.resample('1H').sum() #resampling data by one hour"
   ]
  },
  {
   "cell_type": "code",
   "execution_count": 7,
   "metadata": {
    "scrolled": true
   },
   "outputs": [
    {
     "data": {
      "text/html": [
       "<div>\n",
       "<style scoped>\n",
       "    .dataframe tbody tr th:only-of-type {\n",
       "        vertical-align: middle;\n",
       "    }\n",
       "\n",
       "    .dataframe tbody tr th {\n",
       "        vertical-align: top;\n",
       "    }\n",
       "\n",
       "    .dataframe thead th {\n",
       "        text-align: right;\n",
       "    }\n",
       "</style>\n",
       "<table border=\"1\" class=\"dataframe\">\n",
       "  <thead>\n",
       "    <tr style=\"text-align: right;\">\n",
       "      <th></th>\n",
       "      <th>num_orders</th>\n",
       "    </tr>\n",
       "    <tr>\n",
       "      <th>datetime</th>\n",
       "      <th></th>\n",
       "    </tr>\n",
       "  </thead>\n",
       "  <tbody>\n",
       "    <tr>\n",
       "      <th>2018-03-01 00:00:00</th>\n",
       "      <td>124</td>\n",
       "    </tr>\n",
       "    <tr>\n",
       "      <th>2018-03-01 01:00:00</th>\n",
       "      <td>85</td>\n",
       "    </tr>\n",
       "    <tr>\n",
       "      <th>2018-03-01 02:00:00</th>\n",
       "      <td>71</td>\n",
       "    </tr>\n",
       "    <tr>\n",
       "      <th>2018-03-01 03:00:00</th>\n",
       "      <td>66</td>\n",
       "    </tr>\n",
       "    <tr>\n",
       "      <th>2018-03-01 04:00:00</th>\n",
       "      <td>43</td>\n",
       "    </tr>\n",
       "  </tbody>\n",
       "</table>\n",
       "</div>"
      ],
      "text/plain": [
       "                     num_orders\n",
       "datetime                       \n",
       "2018-03-01 00:00:00         124\n",
       "2018-03-01 01:00:00          85\n",
       "2018-03-01 02:00:00          71\n",
       "2018-03-01 03:00:00          66\n",
       "2018-03-01 04:00:00          43"
      ]
     },
     "execution_count": 7,
     "metadata": {},
     "output_type": "execute_result"
    }
   ],
   "source": [
    "data.head() #viewing new data"
   ]
  },
  {
   "cell_type": "code",
   "execution_count": 8,
   "metadata": {},
   "outputs": [
    {
     "data": {
      "text/html": [
       "<div>\n",
       "<style scoped>\n",
       "    .dataframe tbody tr th:only-of-type {\n",
       "        vertical-align: middle;\n",
       "    }\n",
       "\n",
       "    .dataframe tbody tr th {\n",
       "        vertical-align: top;\n",
       "    }\n",
       "\n",
       "    .dataframe thead th {\n",
       "        text-align: right;\n",
       "    }\n",
       "</style>\n",
       "<table border=\"1\" class=\"dataframe\">\n",
       "  <thead>\n",
       "    <tr style=\"text-align: right;\">\n",
       "      <th></th>\n",
       "      <th>num_orders</th>\n",
       "    </tr>\n",
       "  </thead>\n",
       "  <tbody>\n",
       "    <tr>\n",
       "      <th>count</th>\n",
       "      <td>4416.000000</td>\n",
       "    </tr>\n",
       "    <tr>\n",
       "      <th>mean</th>\n",
       "      <td>84.422781</td>\n",
       "    </tr>\n",
       "    <tr>\n",
       "      <th>std</th>\n",
       "      <td>45.023853</td>\n",
       "    </tr>\n",
       "    <tr>\n",
       "      <th>min</th>\n",
       "      <td>0.000000</td>\n",
       "    </tr>\n",
       "    <tr>\n",
       "      <th>25%</th>\n",
       "      <td>54.000000</td>\n",
       "    </tr>\n",
       "    <tr>\n",
       "      <th>50%</th>\n",
       "      <td>78.000000</td>\n",
       "    </tr>\n",
       "    <tr>\n",
       "      <th>75%</th>\n",
       "      <td>107.000000</td>\n",
       "    </tr>\n",
       "    <tr>\n",
       "      <th>max</th>\n",
       "      <td>462.000000</td>\n",
       "    </tr>\n",
       "  </tbody>\n",
       "</table>\n",
       "</div>"
      ],
      "text/plain": [
       "        num_orders\n",
       "count  4416.000000\n",
       "mean     84.422781\n",
       "std      45.023853\n",
       "min       0.000000\n",
       "25%      54.000000\n",
       "50%      78.000000\n",
       "75%     107.000000\n",
       "max     462.000000"
      ]
     },
     "execution_count": 8,
     "metadata": {},
     "output_type": "execute_result"
    }
   ],
   "source": [
    "data.describe() #viewing statistical information on the resampled dataset"
   ]
  },
  {
   "cell_type": "markdown",
   "metadata": {},
   "source": [
    "## Analysis\n",
    "Now we will take a closer look at our data to see if there are any trends we can identify."
   ]
  },
  {
   "cell_type": "code",
   "execution_count": 9,
   "metadata": {
    "scrolled": false
   },
   "outputs": [
    {
     "data": {
      "text/plain": [
       "<AxesSubplot:xlabel='datetime'>"
      ]
     },
     "execution_count": 9,
     "metadata": {},
     "output_type": "execute_result"
    },
    {
     "data": {
      "image/png": "[encoded data removed]",
      "text/plain": [
       "<Figure size 432x288 with 1 Axes>"
      ]
     },
     "metadata": {
      "needs_background": "light"
     },
     "output_type": "display_data"
    }
   ],
   "source": [
    "data.plot() #viewing a plot of data"
   ]
  },
  {
   "cell_type": "markdown",
   "metadata": {},
   "source": [
    "From this graph, we can also see there tend to be a linear trend upwards towards the later months. This could be due to more people traveling in the fall, or perhaps due to colder temperatures. Further investigation would be needed in order to confirm what is causing this. "
   ]
  },
  {
   "cell_type": "code",
   "execution_count": 10,
   "metadata": {},
   "outputs": [
    {
     "data": {
      "text/plain": [
       "Text(0.5, 1.0, 'Residuals')"
      ]
     },
     "execution_count": 10,
     "metadata": {},
     "output_type": "execute_result"
    },
    {
     "data": {
      "image/png": "[encoded data removed]",
      "text/plain": [
       "<Figure size 720x720 with 3 Axes>"
      ]
     },
     "metadata": {
      "needs_background": "light"
     },
     "output_type": "display_data"
    }
   ],
   "source": [
    "decomposed = seasonal_decompose(data)\n",
    "\n",
    "plt.figure(figsize=(10, 10))\n",
    "\n",
    "plt.subplot(311)\n",
    "decomposed.trend.plot(ax=plt.gca())\n",
    "plt.title('Trend')\n",
    "plt.subplot(312)\n",
    "decomposed.seasonal.plot(ax=plt.gca())\n",
    "plt.title('Seasonality')\n",
    "plt.subplot(313)\n",
    "decomposed.resid.plot(ax=plt.gca())\n",
    "plt.title('Residuals')"
   ]
  },
  {
   "cell_type": "markdown",
   "metadata": {},
   "source": [
    "Since we can see that the graph of seasonality is difficult to fully visualize, we will select a sample to view more closely."
   ]
  },
  {
   "cell_type": "code",
   "execution_count": 11,
   "metadata": {
    "scrolled": true
   },
   "outputs": [
    {
     "data": {
      "text/plain": [
       "<AxesSubplot:xlabel='datetime'>"
      ]
     },
     "execution_count": 11,
     "metadata": {},
     "output_type": "execute_result"
    },
    {
     "data": {
      "image/png": "[encoded data removed]",
      "text/plain": [
       "<Figure size 432x288 with 1 Axes>"
      ]
     },
     "metadata": {
      "needs_background": "light"
     },
     "output_type": "display_data"
    }
   ],
   "source": [
    "decomp = decomposed.seasonal['2018-08-01':'2018-08-05']\n",
    "decomp.plot()"
   ]
  },
  {
   "cell_type": "markdown",
   "metadata": {},
   "source": [
    "We can see that we have an amplitude of 120, and that the cycle appears to repeat daily. "
   ]
  },
  {
   "cell_type": "code",
   "execution_count": 12,
   "metadata": {},
   "outputs": [
    {
     "data": {
      "text/plain": [
       "<AxesSubplot:xlabel='datetime'>"
      ]
     },
     "execution_count": 12,
     "metadata": {},
     "output_type": "execute_result"
    },
    {
     "data": {
      "image/png": "[encoded data removed]",
      "text/plain": [
       "<Figure size 432x288 with 1 Axes>"
      ]
     },
     "metadata": {
      "needs_background": "light"
     },
     "output_type": "display_data"
    }
   ],
   "source": [
    "data['rolling_mean'] = data.rolling(10).mean() #viewing rolling mean of our data\n",
    "data.plot()"
   ]
  },
  {
   "cell_type": "markdown",
   "metadata": {},
   "source": [
    "Viewing our rolling mean graph and trend graph, it is even more apparent that there appears to be a linear increase in taxi orders across the months. This leads us to believe linear regression will serve our purpose best, but we will still train several models in order to provide the best one. "
   ]
  },
  {
   "cell_type": "markdown",
   "metadata": {},
   "source": [
    "## Training"
   ]
  },
  {
   "cell_type": "markdown",
   "metadata": {},
   "source": [
    "We will begin by creating features to train with by extracting our date and time information from our indexes. We will also add our rolling mean and lag."
   ]
  },
  {
   "cell_type": "code",
   "execution_count": 13,
   "metadata": {
    "scrolled": true
   },
   "outputs": [],
   "source": [
    "def make_features(data, max_lag, rolling_mean_size): #creating features to train our model\n",
    "    data['month'] = data.index.month\n",
    "    data['day'] = data.index.day\n",
    "    data['dayofweek'] = data.index.dayofweek\n",
    "    \n",
    "    for lag in range(1, max_lag + 1):\n",
    "        data['lag_{}'.format(lag)] = data['num_orders'].shift(lag)\n",
    "\n",
    "    data['rolling_mean'] = data['num_orders'].shift(1).rolling(rolling_mean_size).mean()\n",
    "\n",
    "make_features(data, 24, 8)"
   ]
  },
  {
   "cell_type": "markdown",
   "metadata": {},
   "source": [
    "Now we will split our data into train, valid and test sets. Then we will define the function for root mean squared error, which will be used as a scoring metric for our models."
   ]
  },
  {
   "cell_type": "code",
   "execution_count": 14,
   "metadata": {},
   "outputs": [],
   "source": [
    "data = data.dropna() #dropping our created nan values\n",
    "features= data.drop(columns= ['num_orders']) #naming features and targets\n",
    "target = data['num_orders'] \n",
    "#splitting data into train, valid, test sets - 80% train and 10% valid and test\n",
    "features_train, features_rem, target_train, target_rem = train_test_split(features,target, train_size=0.8, shuffle = False)\n",
    "features_valid, features_test, target_valid, target_test = train_test_split(features_rem,target_rem, test_size=0.5, shuffle = False)"
   ]
  },
  {
   "cell_type": "code",
   "execution_count": 15,
   "metadata": {},
   "outputs": [
    {
     "name": "stdout",
     "output_type": "stream",
     "text": [
      "2018-03-02 00:00:00 2018-07-26 08:00:00\n",
      "2018-07-26 09:00:00 2018-08-13 15:00:00\n",
      "2018-08-13 16:00:00 2018-08-31 23:00:00\n"
     ]
    }
   ],
   "source": [
    "print(target_train.index.min(), target_train.index.max()) #ensuring split correctly\n",
    "print(target_valid.index.min(), target_valid.index.max())\n",
    "print(target_test.index.min(), target_test.index.max())"
   ]
  },
  {
   "cell_type": "code",
   "execution_count": 16,
   "metadata": {},
   "outputs": [],
   "source": [
    "def rmse(target, predict): #defining root mean squared error as a metric for grading our models\n",
    "    return np.sqrt(mean_squared_error(target, predict))"
   ]
  },
  {
   "cell_type": "markdown",
   "metadata": {},
   "source": [
    "### Linear Regression\n",
    "We will begin by fitting our linear regression model; since this model does not greatly benefit from hyperparameter tuning we will solely fit it in this step. "
   ]
  },
  {
   "cell_type": "code",
   "execution_count": 17,
   "metadata": {
    "scrolled": true
   },
   "outputs": [
    {
     "data": {
      "text/plain": [
       "LinearRegression()"
      ]
     },
     "execution_count": 17,
     "metadata": {},
     "output_type": "execute_result"
    }
   ],
   "source": [
    "model_LR = LinearRegression() # training linear regression model\n",
    "model_LR.fit(features_train, target_train)"
   ]
  },
  {
   "cell_type": "markdown",
   "metadata": {},
   "source": [
    "### Decision Tree\n",
    "Next, we will train our Decision Tree model, and tune the hyperparameter of max_depth."
   ]
  },
  {
   "cell_type": "code",
   "execution_count": 18,
   "metadata": {
    "scrolled": true
   },
   "outputs": [
    {
     "name": "stdout",
     "output_type": "stream",
     "text": [
      "5\n"
     ]
    }
   ],
   "source": [
    "min_list = [] #tuning hyperparameter of max_depth\n",
    "for depth in range(1, 6):\n",
    "    model = DecisionTreeRegressor(random_state=12345, max_depth=depth)\n",
    "    model.fit(features_train, target_train)   \n",
    "    predictions_valid = model.predict(features_valid)\n",
    "    min_list.append(rmse(target_valid, predictions_valid))\n",
    "min_value = min(min_list)\n",
    "max_depth_number = min_list.index(min_value) +1\n",
    "print(max_depth_number)"
   ]
  },
  {
   "cell_type": "code",
   "execution_count": 19,
   "metadata": {},
   "outputs": [
    {
     "data": {
      "text/plain": [
       "DecisionTreeRegressor(max_depth=3, random_state=12345)"
      ]
     },
     "execution_count": 19,
     "metadata": {},
     "output_type": "execute_result"
    }
   ],
   "source": [
    "model_tree = DecisionTreeRegressor(random_state=12345, max_depth=3) #fitting our model\n",
    "model_tree.fit(features_train, target_train)"
   ]
  },
  {
   "cell_type": "markdown",
   "metadata": {},
   "source": [
    "### Random Forest\n",
    "Finally, we will train our Random Forest model, and will tune the hyperparameters of n_estimators and max_depth."
   ]
  },
  {
   "cell_type": "code",
   "execution_count": 20,
   "metadata": {},
   "outputs": [
    {
     "name": "stdout",
     "output_type": "stream",
     "text": [
      "9\n"
     ]
    }
   ],
   "source": [
    "min_list = [] # tuning n_estimators hyperparameter\n",
    "for n_estimators in range(1, 10):\n",
    "    model = RandomForestRegressor(random_state=12345, n_estimators=n_estimators)\n",
    "    model.fit(features_train, target_train)   \n",
    "    predictions_valid = model.predict(features_valid)\n",
    "    min_list.append(rmse(target_valid, predictions_valid))\n",
    "min_value = min(min_list)\n",
    "n_estimators_number = min_list.index(min_value) +1\n",
    "print(n_estimators_number)"
   ]
  },
  {
   "cell_type": "code",
   "execution_count": 21,
   "metadata": {},
   "outputs": [
    {
     "name": "stdout",
     "output_type": "stream",
     "text": [
      "5\n"
     ]
    }
   ],
   "source": [
    "min_list = [] #tuning max_depth hyperparameter\n",
    "for depth in range(1, 6):\n",
    "    model = RandomForestRegressor(random_state=12345, max_depth=depth, n_estimators=9)\n",
    "    model.fit(features_train, target_train)   \n",
    "    predictions_valid = model.predict(features_valid)\n",
    "    min_list.append(rmse(target_valid, predictions_valid))\n",
    "min_value = min(min_list)\n",
    "max_depth_number = min_list.index(min_value) +1\n",
    "print(max_depth_number)"
   ]
  },
  {
   "cell_type": "code",
   "execution_count": 22,
   "metadata": {},
   "outputs": [
    {
     "data": {
      "text/plain": [
       "RandomForestRegressor(max_depth=4, n_estimators=9, random_state=12345)"
      ]
     },
     "execution_count": 22,
     "metadata": {},
     "output_type": "execute_result"
    }
   ],
   "source": [
    "model_forest = RandomForestRegressor(random_state=12345, n_estimators=9, max_depth=4) #fitting the model\n",
    "model_forest.fit(features_train, target_train)"
   ]
  },
  {
   "cell_type": "markdown",
   "metadata": {},
   "source": [
    "## Testing\n",
    "Now we will move onto our final section, testing. We will utilize the RMSE value to score our models. We need to have a model with a value lower than 48."
   ]
  },
  {
   "cell_type": "markdown",
   "metadata": {},
   "source": [
    "### Baseline Comparison\n",
    "First, we will establish a baseline for which to compare our models. This baseline will predict the value based on the previous value."
   ]
  },
  {
   "cell_type": "code",
   "execution_count": 23,
   "metadata": {},
   "outputs": [
    {
     "name": "stdout",
     "output_type": "stream",
     "text": [
      "RMSE: 58.881776776551476\n"
     ]
    }
   ],
   "source": [
    "pred_previous = target_test.shift(periods=1)\n",
    "pred_previous[0] = target_valid[-1]\n",
    "print(\"RMSE:\", rmse(target_test, pred_previous))"
   ]
  },
  {
   "cell_type": "markdown",
   "metadata": {},
   "source": [
    "### Linear Regression"
   ]
  },
  {
   "cell_type": "code",
   "execution_count": 24,
   "metadata": {},
   "outputs": [
    {
     "name": "stdout",
     "output_type": "stream",
     "text": [
      "RMSE: 46.17282778300398\n"
     ]
    }
   ],
   "source": [
    "LR_predictions = model_LR.predict(features_test)  #creating predictions\n",
    "print(\"RMSE:\", rmse(target_test, LR_predictions)) #finding test value "
   ]
  },
  {
   "cell_type": "markdown",
   "metadata": {},
   "source": [
    "### Decision Tree"
   ]
  },
  {
   "cell_type": "code",
   "execution_count": 25,
   "metadata": {},
   "outputs": [
    {
     "name": "stdout",
     "output_type": "stream",
     "text": [
      "RMSE: 62.9975374934335\n"
     ]
    }
   ],
   "source": [
    "tree_predictions = model_tree.predict(features_test) #creating predictions\n",
    "print(\"RMSE:\", rmse(target_test, tree_predictions)) #finding test value "
   ]
  },
  {
   "cell_type": "markdown",
   "metadata": {},
   "source": [
    "### Random Forest"
   ]
  },
  {
   "cell_type": "code",
   "execution_count": 26,
   "metadata": {
    "scrolled": true
   },
   "outputs": [
    {
     "name": "stdout",
     "output_type": "stream",
     "text": [
      "RMSE: 63.389975154282986\n"
     ]
    }
   ],
   "source": [
    "forest_predictions = model_forest.predict(features_test) #creating predictions\n",
    "print(\"RMSE:\", rmse(target_test, forest_predictions)) #finding test value "
   ]
  },
  {
   "cell_type": "markdown",
   "metadata": {},
   "source": [
    "As expected, we can see that our Linear Regression model performed the best, returning an RMSE value of 46, which is acceptable for our goals. This would be the model we would utilize for our clients to utilize."
   ]
  },
  {
   "cell_type": "markdown",
   "metadata": {},
   "source": [
    "## Conclusion"
   ]
  },
  {
   "cell_type": "markdown",
   "metadata": {},
   "source": [
    "In this project, we utilized time series data to create a model that would predict peak hours for taxi services. We resampled our data by the hour to find the total number of orders. We then examined our data and removed unnecessary outliers. We created features for our model by utilizing our date time indexes and calculated rolling mean. Then we tuned hyperparameters for several models and fitted them to our data. We found that our Linear Regression model performed best based on our scoring method of root mean squared error. This would be the model we would recommend to our clients. "
   ]
  }
 ],
 "metadata": {
  "ExecuteTimeLog": [
   {
    "duration": 9,
    "start_time": "2022-05-12T15:14:15.618Z"
   },
   {
    "duration": 805,
    "start_time": "2022-05-12T15:15:35.076Z"
   },
   {
    "duration": 4,
    "start_time": "2022-05-12T15:15:35.883Z"
   },
   {
    "duration": 30,
    "start_time": "2022-05-12T15:15:44.364Z"
   },
   {
    "duration": 13,
    "start_time": "2022-05-12T15:15:53.628Z"
   },
   {
    "duration": 9,
    "start_time": "2022-05-12T15:15:57.230Z"
   },
   {
    "duration": 11,
    "start_time": "2022-05-12T15:15:59.052Z"
   },
   {
    "duration": 8,
    "start_time": "2022-05-12T15:16:09.716Z"
   },
   {
    "duration": 13,
    "start_time": "2022-05-12T15:16:18.188Z"
   },
   {
    "duration": 30,
    "start_time": "2022-05-12T15:23:22.420Z"
   },
   {
    "duration": 9,
    "start_time": "2022-05-12T15:23:23.244Z"
   },
   {
    "duration": 6,
    "start_time": "2022-05-12T15:23:24.610Z"
   },
   {
    "duration": 12,
    "start_time": "2022-05-12T15:23:25.572Z"
   },
   {
    "duration": 69,
    "start_time": "2022-05-12T15:24:02.437Z"
   },
   {
    "duration": 8,
    "start_time": "2022-05-12T15:24:08.606Z"
   },
   {
    "duration": 7,
    "start_time": "2022-05-12T15:24:14.789Z"
   },
   {
    "duration": 546,
    "start_time": "2022-05-12T15:25:21.654Z"
   },
   {
    "duration": 969,
    "start_time": "2022-05-12T15:25:43.581Z"
   },
   {
    "duration": 40,
    "start_time": "2022-05-12T15:27:10.918Z"
   },
   {
    "duration": 386,
    "start_time": "2022-05-12T15:27:25.127Z"
   },
   {
    "duration": 6,
    "start_time": "2022-05-12T15:27:28.528Z"
   },
   {
    "duration": 21,
    "start_time": "2022-05-12T15:29:49.697Z"
   },
   {
    "duration": 3,
    "start_time": "2022-05-12T15:30:12.201Z"
   },
   {
    "duration": 2519,
    "start_time": "2022-05-12T15:30:15.218Z"
   },
   {
    "duration": 7,
    "start_time": "2022-05-12T15:30:36.674Z"
   },
   {
    "duration": 20,
    "start_time": "2022-05-12T15:31:47.971Z"
   },
   {
    "duration": 15,
    "start_time": "2022-05-12T15:31:52.852Z"
   },
   {
    "duration": 14,
    "start_time": "2022-05-12T15:33:13.621Z"
   },
   {
    "duration": 9,
    "start_time": "2022-05-12T15:33:33.205Z"
   },
   {
    "duration": 23,
    "start_time": "2022-05-12T15:33:43.757Z"
   },
   {
    "duration": 9,
    "start_time": "2022-05-12T15:33:47.037Z"
   },
   {
    "duration": 73,
    "start_time": "2022-05-12T15:34:07.798Z"
   },
   {
    "duration": 4,
    "start_time": "2022-05-12T15:34:35.686Z"
   },
   {
    "duration": 51,
    "start_time": "2022-05-12T15:36:25.737Z"
   },
   {
    "duration": 12,
    "start_time": "2022-05-12T15:39:37.036Z"
   },
   {
    "duration": 11,
    "start_time": "2022-05-12T15:40:07.621Z"
   },
   {
    "duration": 1800,
    "start_time": "2022-05-12T15:40:19.692Z"
   },
   {
    "duration": 89,
    "start_time": "2022-05-12T15:40:21.495Z"
   },
   {
    "duration": 14,
    "start_time": "2022-05-12T15:40:21.586Z"
   },
   {
    "duration": 13,
    "start_time": "2022-05-12T15:40:21.602Z"
   },
   {
    "duration": 19,
    "start_time": "2022-05-12T15:40:21.618Z"
   },
   {
    "duration": 37,
    "start_time": "2022-05-12T15:40:21.639Z"
   },
   {
    "duration": 7,
    "start_time": "2022-05-12T15:40:21.678Z"
   },
   {
    "duration": 981,
    "start_time": "2022-05-12T15:40:21.686Z"
   },
   {
    "duration": 18,
    "start_time": "2022-05-12T15:40:22.668Z"
   },
   {
    "duration": 12,
    "start_time": "2022-05-12T15:40:22.688Z"
   },
   {
    "duration": 11,
    "start_time": "2022-05-12T15:40:22.702Z"
   },
   {
    "duration": 210,
    "start_time": "2022-05-12T15:40:22.715Z"
   },
   {
    "duration": 0,
    "start_time": "2022-05-12T15:40:22.927Z"
   },
   {
    "duration": 0,
    "start_time": "2022-05-12T15:40:22.929Z"
   },
   {
    "duration": 42,
    "start_time": "2022-05-12T15:40:36.212Z"
   },
   {
    "duration": 11,
    "start_time": "2022-05-12T15:41:17.893Z"
   },
   {
    "duration": 12,
    "start_time": "2022-05-12T15:43:25.447Z"
   },
   {
    "duration": 21,
    "start_time": "2022-05-12T15:43:29.607Z"
   },
   {
    "duration": 707,
    "start_time": "2022-05-12T15:43:34.462Z"
   },
   {
    "duration": 229,
    "start_time": "2022-05-12T15:43:51.392Z"
   },
   {
    "duration": 1726,
    "start_time": "2022-05-12T15:45:25.919Z"
   },
   {
    "duration": 43,
    "start_time": "2022-05-12T15:45:27.648Z"
   },
   {
    "duration": 13,
    "start_time": "2022-05-12T15:45:27.693Z"
   },
   {
    "duration": 13,
    "start_time": "2022-05-12T15:45:27.708Z"
   },
   {
    "duration": 15,
    "start_time": "2022-05-12T15:45:27.724Z"
   },
   {
    "duration": 37,
    "start_time": "2022-05-12T15:45:27.741Z"
   },
   {
    "duration": 7,
    "start_time": "2022-05-12T15:45:27.781Z"
   },
   {
    "duration": 1626,
    "start_time": "2022-05-12T15:45:27.790Z"
   },
   {
    "duration": 28,
    "start_time": "2022-05-12T15:45:29.418Z"
   },
   {
    "duration": 20,
    "start_time": "2022-05-12T15:45:29.467Z"
   },
   {
    "duration": 3,
    "start_time": "2022-05-12T15:45:29.490Z"
   },
   {
    "duration": 16,
    "start_time": "2022-05-12T15:45:29.496Z"
   },
   {
    "duration": 219,
    "start_time": "2022-05-12T15:45:29.514Z"
   },
   {
    "duration": 0,
    "start_time": "2022-05-12T15:45:29.736Z"
   },
   {
    "duration": 0,
    "start_time": "2022-05-12T15:45:29.738Z"
   },
   {
    "duration": 0,
    "start_time": "2022-05-12T15:45:29.739Z"
   },
   {
    "duration": 5,
    "start_time": "2022-05-12T15:45:42.053Z"
   },
   {
    "duration": 1873,
    "start_time": "2022-05-12T15:45:46.813Z"
   },
   {
    "duration": 35,
    "start_time": "2022-05-12T15:45:48.688Z"
   },
   {
    "duration": 12,
    "start_time": "2022-05-12T15:45:48.725Z"
   },
   {
    "duration": 31,
    "start_time": "2022-05-12T15:45:48.739Z"
   },
   {
    "duration": 13,
    "start_time": "2022-05-12T15:45:48.773Z"
   },
   {
    "duration": 9,
    "start_time": "2022-05-12T15:45:48.788Z"
   },
   {
    "duration": 7,
    "start_time": "2022-05-12T15:45:48.799Z"
   },
   {
    "duration": 1029,
    "start_time": "2022-05-12T15:45:48.808Z"
   },
   {
    "duration": 32,
    "start_time": "2022-05-12T15:45:49.839Z"
   },
   {
    "duration": 12,
    "start_time": "2022-05-12T15:45:49.874Z"
   },
   {
    "duration": 3,
    "start_time": "2022-05-12T15:45:49.888Z"
   },
   {
    "duration": 12,
    "start_time": "2022-05-12T15:45:49.893Z"
   },
   {
    "duration": 86,
    "start_time": "2022-05-12T15:45:49.908Z"
   },
   {
    "duration": 12,
    "start_time": "2022-05-12T15:45:49.997Z"
   },
   {
    "duration": 683,
    "start_time": "2022-05-12T15:45:50.068Z"
   },
   {
    "duration": 145,
    "start_time": "2022-05-12T15:45:50.753Z"
   },
   {
    "duration": 7,
    "start_time": "2022-05-12T15:46:11.153Z"
   },
   {
    "duration": 13,
    "start_time": "2022-05-12T15:46:24.906Z"
   },
   {
    "duration": 9,
    "start_time": "2022-05-12T15:46:35.137Z"
   },
   {
    "duration": 4,
    "start_time": "2022-05-12T15:48:11.827Z"
   },
   {
    "duration": 0,
    "start_time": "2022-05-12T15:48:58.492Z"
   },
   {
    "duration": 1695,
    "start_time": "2022-05-12T15:49:07.485Z"
   },
   {
    "duration": 35,
    "start_time": "2022-05-12T15:49:09.183Z"
   },
   {
    "duration": 13,
    "start_time": "2022-05-12T15:49:09.219Z"
   },
   {
    "duration": 10,
    "start_time": "2022-05-12T15:49:09.234Z"
   },
   {
    "duration": 37,
    "start_time": "2022-05-12T15:49:09.247Z"
   },
   {
    "duration": 15,
    "start_time": "2022-05-12T15:49:09.286Z"
   },
   {
    "duration": 9,
    "start_time": "2022-05-12T15:49:09.304Z"
   },
   {
    "duration": 22324,
    "start_time": "2022-05-12T15:49:09.315Z"
   },
   {
    "duration": 991,
    "start_time": "2022-05-12T15:49:31.641Z"
   },
   {
    "duration": 18,
    "start_time": "2022-05-12T15:49:32.634Z"
   },
   {
    "duration": 21,
    "start_time": "2022-05-12T15:49:32.667Z"
   },
   {
    "duration": 5,
    "start_time": "2022-05-12T15:49:32.690Z"
   },
   {
    "duration": 25,
    "start_time": "2022-05-12T15:49:32.697Z"
   },
   {
    "duration": 77,
    "start_time": "2022-05-12T15:49:32.726Z"
   },
   {
    "duration": 65,
    "start_time": "2022-05-12T15:49:32.806Z"
   },
   {
    "duration": 732,
    "start_time": "2022-05-12T15:49:32.873Z"
   },
   {
    "duration": 151,
    "start_time": "2022-05-12T15:49:33.607Z"
   },
   {
    "duration": 13,
    "start_time": "2022-05-12T15:49:33.760Z"
   },
   {
    "duration": 18,
    "start_time": "2022-05-12T15:49:33.774Z"
   },
   {
    "duration": 9,
    "start_time": "2022-05-12T15:49:33.795Z"
   },
   {
    "duration": 604,
    "start_time": "2022-05-12T15:49:34.818Z"
   },
   {
    "duration": 1768,
    "start_time": "2022-05-12T15:49:49.307Z"
   },
   {
    "duration": 37,
    "start_time": "2022-05-12T15:49:51.077Z"
   },
   {
    "duration": 17,
    "start_time": "2022-05-12T15:49:51.116Z"
   },
   {
    "duration": 34,
    "start_time": "2022-05-12T15:49:51.135Z"
   },
   {
    "duration": 14,
    "start_time": "2022-05-12T15:49:51.173Z"
   },
   {
    "duration": 13,
    "start_time": "2022-05-12T15:49:51.189Z"
   },
   {
    "duration": 7,
    "start_time": "2022-05-12T15:49:51.204Z"
   },
   {
    "duration": 395,
    "start_time": "2022-05-12T15:49:51.213Z"
   },
   {
    "duration": 1187,
    "start_time": "2022-05-12T15:49:51.610Z"
   },
   {
    "duration": 18,
    "start_time": "2022-05-12T15:49:52.799Z"
   },
   {
    "duration": 12,
    "start_time": "2022-05-12T15:49:52.819Z"
   },
   {
    "duration": 4,
    "start_time": "2022-05-12T15:49:52.832Z"
   },
   {
    "duration": 42,
    "start_time": "2022-05-12T15:49:52.838Z"
   },
   {
    "duration": 124,
    "start_time": "2022-05-12T15:49:52.884Z"
   },
   {
    "duration": 61,
    "start_time": "2022-05-12T15:49:53.010Z"
   },
   {
    "duration": 696,
    "start_time": "2022-05-12T15:49:53.072Z"
   },
   {
    "duration": 149,
    "start_time": "2022-05-12T15:49:53.770Z"
   },
   {
    "duration": 8,
    "start_time": "2022-05-12T15:49:53.921Z"
   },
   {
    "duration": 19,
    "start_time": "2022-05-12T15:49:53.931Z"
   },
   {
    "duration": 24,
    "start_time": "2022-05-12T15:49:53.952Z"
   },
   {
    "duration": 1924,
    "start_time": "2022-05-12T15:51:29.269Z"
   },
   {
    "duration": 36,
    "start_time": "2022-05-12T15:51:31.196Z"
   },
   {
    "duration": 14,
    "start_time": "2022-05-12T15:51:31.234Z"
   },
   {
    "duration": 23,
    "start_time": "2022-05-12T15:51:31.251Z"
   },
   {
    "duration": 33,
    "start_time": "2022-05-12T15:51:31.278Z"
   },
   {
    "duration": 10,
    "start_time": "2022-05-12T15:51:31.313Z"
   },
   {
    "duration": 28,
    "start_time": "2022-05-12T15:51:31.325Z"
   },
   {
    "duration": 295,
    "start_time": "2022-05-12T15:51:31.356Z"
   },
   {
    "duration": 1479,
    "start_time": "2022-05-12T15:51:31.654Z"
   },
   {
    "duration": 45,
    "start_time": "2022-05-12T15:51:33.136Z"
   },
   {
    "duration": 13,
    "start_time": "2022-05-12T15:51:33.182Z"
   },
   {
    "duration": 3,
    "start_time": "2022-05-12T15:51:33.197Z"
   },
   {
    "duration": 12,
    "start_time": "2022-05-12T15:51:33.202Z"
   },
   {
    "duration": 164,
    "start_time": "2022-05-12T15:51:33.218Z"
   },
   {
    "duration": 13,
    "start_time": "2022-05-12T15:51:33.383Z"
   },
   {
    "duration": 890,
    "start_time": "2022-05-12T15:51:33.398Z"
   },
   {
    "duration": 185,
    "start_time": "2022-05-12T15:51:34.290Z"
   },
   {
    "duration": 9,
    "start_time": "2022-05-12T15:51:34.478Z"
   },
   {
    "duration": 13,
    "start_time": "2022-05-12T15:51:34.490Z"
   },
   {
    "duration": 12,
    "start_time": "2022-05-12T15:51:34.505Z"
   },
   {
    "duration": 2142,
    "start_time": "2022-05-12T15:53:01.900Z"
   },
   {
    "duration": 38,
    "start_time": "2022-05-12T15:53:04.044Z"
   },
   {
    "duration": 15,
    "start_time": "2022-05-12T15:53:04.083Z"
   },
   {
    "duration": 12,
    "start_time": "2022-05-12T15:53:04.100Z"
   },
   {
    "duration": 42,
    "start_time": "2022-05-12T15:53:04.116Z"
   },
   {
    "duration": 16,
    "start_time": "2022-05-12T15:53:04.161Z"
   },
   {
    "duration": 8,
    "start_time": "2022-05-12T15:53:04.179Z"
   },
   {
    "duration": 254,
    "start_time": "2022-05-12T15:53:04.189Z"
   },
   {
    "duration": 996,
    "start_time": "2022-05-12T15:53:04.445Z"
   },
   {
    "duration": 24,
    "start_time": "2022-05-12T15:53:05.443Z"
   },
   {
    "duration": 12,
    "start_time": "2022-05-12T15:53:05.469Z"
   },
   {
    "duration": 12,
    "start_time": "2022-05-12T15:53:05.483Z"
   },
   {
    "duration": 15,
    "start_time": "2022-05-12T15:53:05.497Z"
   },
   {
    "duration": 74,
    "start_time": "2022-05-12T15:53:05.515Z"
   },
   {
    "duration": 10,
    "start_time": "2022-05-12T15:53:05.591Z"
   },
   {
    "duration": 589,
    "start_time": "2022-05-12T15:53:05.603Z"
   },
   {
    "duration": 153,
    "start_time": "2022-05-12T15:53:06.194Z"
   },
   {
    "duration": 18,
    "start_time": "2022-05-12T15:53:06.349Z"
   },
   {
    "duration": 7,
    "start_time": "2022-05-12T15:53:06.369Z"
   },
   {
    "duration": 12,
    "start_time": "2022-05-12T15:53:06.378Z"
   },
   {
    "duration": 1636,
    "start_time": "2022-05-12T15:55:38.040Z"
   },
   {
    "duration": 34,
    "start_time": "2022-05-12T15:55:39.679Z"
   },
   {
    "duration": 11,
    "start_time": "2022-05-12T15:55:39.715Z"
   },
   {
    "duration": 12,
    "start_time": "2022-05-12T15:55:39.729Z"
   },
   {
    "duration": 20,
    "start_time": "2022-05-12T15:55:39.768Z"
   },
   {
    "duration": 10,
    "start_time": "2022-05-12T15:55:39.791Z"
   },
   {
    "duration": 7,
    "start_time": "2022-05-12T15:55:39.803Z"
   },
   {
    "duration": 255,
    "start_time": "2022-05-12T15:55:39.812Z"
   },
   {
    "duration": 1403,
    "start_time": "2022-05-12T15:55:40.069Z"
   },
   {
    "duration": 23,
    "start_time": "2022-05-12T15:55:41.475Z"
   },
   {
    "duration": 15,
    "start_time": "2022-05-12T15:55:41.501Z"
   },
   {
    "duration": 4,
    "start_time": "2022-05-12T15:55:41.519Z"
   },
   {
    "duration": 45,
    "start_time": "2022-05-12T15:55:41.525Z"
   },
   {
    "duration": 94,
    "start_time": "2022-05-12T15:55:41.573Z"
   },
   {
    "duration": 14,
    "start_time": "2022-05-12T15:55:41.670Z"
   },
   {
    "duration": 742,
    "start_time": "2022-05-12T15:55:41.686Z"
   },
   {
    "duration": 149,
    "start_time": "2022-05-12T15:55:42.430Z"
   },
   {
    "duration": 8,
    "start_time": "2022-05-12T15:55:42.580Z"
   },
   {
    "duration": 20,
    "start_time": "2022-05-12T15:55:42.590Z"
   },
   {
    "duration": 16,
    "start_time": "2022-05-12T15:55:42.613Z"
   },
   {
    "duration": 177,
    "start_time": "2022-05-12T15:56:55.956Z"
   },
   {
    "duration": 5,
    "start_time": "2022-05-12T15:57:00.644Z"
   },
   {
    "duration": 28475,
    "start_time": "2022-05-12T15:57:04.804Z"
   },
   {
    "duration": 153,
    "start_time": "2022-05-12T15:59:59.455Z"
   },
   {
    "duration": 38,
    "start_time": "2022-05-12T16:00:06.439Z"
   },
   {
    "duration": 8,
    "start_time": "2022-05-12T16:00:08.183Z"
   },
   {
    "duration": 1657,
    "start_time": "2022-05-12T16:04:14.175Z"
   },
   {
    "duration": 37,
    "start_time": "2022-05-12T16:04:15.834Z"
   },
   {
    "duration": 15,
    "start_time": "2022-05-12T16:04:15.873Z"
   },
   {
    "duration": 17,
    "start_time": "2022-05-12T16:04:15.890Z"
   },
   {
    "duration": 14,
    "start_time": "2022-05-12T16:04:15.910Z"
   },
   {
    "duration": 9,
    "start_time": "2022-05-12T16:04:15.926Z"
   },
   {
    "duration": 37,
    "start_time": "2022-05-12T16:04:15.937Z"
   },
   {
    "duration": 312,
    "start_time": "2022-05-12T16:04:15.977Z"
   },
   {
    "duration": 104,
    "start_time": "2022-05-12T16:04:16.290Z"
   },
   {
    "duration": 1152,
    "start_time": "2022-05-12T16:04:16.396Z"
   },
   {
    "duration": 30,
    "start_time": "2022-05-12T16:04:17.550Z"
   },
   {
    "duration": 12,
    "start_time": "2022-05-12T16:04:17.582Z"
   },
   {
    "duration": 7,
    "start_time": "2022-05-12T16:04:17.596Z"
   },
   {
    "duration": 19,
    "start_time": "2022-05-12T16:04:17.606Z"
   },
   {
    "duration": 83,
    "start_time": "2022-05-12T16:04:17.626Z"
   },
   {
    "duration": 71,
    "start_time": "2022-05-12T16:04:17.711Z"
   },
   {
    "duration": 714,
    "start_time": "2022-05-12T16:04:17.784Z"
   },
   {
    "duration": 166,
    "start_time": "2022-05-12T16:04:18.501Z"
   },
   {
    "duration": 45,
    "start_time": "2022-05-12T16:04:18.669Z"
   },
   {
    "duration": 7,
    "start_time": "2022-05-12T16:04:18.716Z"
   },
   {
    "duration": 10,
    "start_time": "2022-05-12T16:04:18.725Z"
   },
   {
    "duration": 37,
    "start_time": "2022-05-12T16:04:18.737Z"
   },
   {
    "duration": 4,
    "start_time": "2022-05-12T16:05:39.164Z"
   },
   {
    "duration": 2642,
    "start_time": "2022-05-12T16:05:44.282Z"
   },
   {
    "duration": 56,
    "start_time": "2022-05-12T16:05:46.928Z"
   },
   {
    "duration": 13,
    "start_time": "2022-05-12T16:05:46.988Z"
   },
   {
    "duration": 16,
    "start_time": "2022-05-12T16:05:47.003Z"
   },
   {
    "duration": 15,
    "start_time": "2022-05-12T16:05:47.022Z"
   },
   {
    "duration": 35,
    "start_time": "2022-05-12T16:05:47.039Z"
   },
   {
    "duration": 9,
    "start_time": "2022-05-12T16:05:47.076Z"
   },
   {
    "duration": 261,
    "start_time": "2022-05-12T16:05:47.087Z"
   },
   {
    "duration": 217,
    "start_time": "2022-05-12T16:05:47.350Z"
   },
   {
    "duration": 7,
    "start_time": "2022-05-12T16:05:47.570Z"
   },
   {
    "duration": 165,
    "start_time": "2022-05-12T16:05:47.579Z"
   },
   {
    "duration": 0,
    "start_time": "2022-05-12T16:05:47.746Z"
   },
   {
    "duration": 0,
    "start_time": "2022-05-12T16:05:47.748Z"
   },
   {
    "duration": 0,
    "start_time": "2022-05-12T16:05:47.749Z"
   },
   {
    "duration": 0,
    "start_time": "2022-05-12T16:05:47.750Z"
   },
   {
    "duration": 0,
    "start_time": "2022-05-12T16:05:47.751Z"
   },
   {
    "duration": 0,
    "start_time": "2022-05-12T16:05:47.752Z"
   },
   {
    "duration": 0,
    "start_time": "2022-05-12T16:05:47.753Z"
   },
   {
    "duration": 0,
    "start_time": "2022-05-12T16:05:47.754Z"
   },
   {
    "duration": 0,
    "start_time": "2022-05-12T16:05:47.755Z"
   },
   {
    "duration": 0,
    "start_time": "2022-05-12T16:05:47.756Z"
   },
   {
    "duration": 0,
    "start_time": "2022-05-12T16:05:47.757Z"
   },
   {
    "duration": 0,
    "start_time": "2022-05-12T16:05:47.759Z"
   },
   {
    "duration": 24,
    "start_time": "2022-05-12T16:06:11.005Z"
   },
   {
    "duration": 7,
    "start_time": "2022-05-12T16:06:42.206Z"
   },
   {
    "duration": 2143,
    "start_time": "2022-05-12T16:07:22.825Z"
   },
   {
    "duration": 34,
    "start_time": "2022-05-12T16:07:24.970Z"
   },
   {
    "duration": 14,
    "start_time": "2022-05-12T16:07:25.007Z"
   },
   {
    "duration": 15,
    "start_time": "2022-05-12T16:07:25.024Z"
   },
   {
    "duration": 13,
    "start_time": "2022-05-12T16:07:25.067Z"
   },
   {
    "duration": 35,
    "start_time": "2022-05-12T16:07:25.083Z"
   },
   {
    "duration": 28,
    "start_time": "2022-05-12T16:07:25.119Z"
   },
   {
    "duration": 400,
    "start_time": "2022-05-12T16:07:25.149Z"
   },
   {
    "duration": 176,
    "start_time": "2022-05-12T16:07:25.552Z"
   },
   {
    "duration": 7,
    "start_time": "2022-05-12T16:07:25.730Z"
   },
   {
    "duration": 62,
    "start_time": "2022-05-12T16:07:25.740Z"
   },
   {
    "duration": 13,
    "start_time": "2022-05-12T16:07:25.804Z"
   },
   {
    "duration": 19,
    "start_time": "2022-05-12T16:07:25.819Z"
   },
   {
    "duration": 49,
    "start_time": "2022-05-12T16:07:25.843Z"
   },
   {
    "duration": 91,
    "start_time": "2022-05-12T16:07:25.894Z"
   },
   {
    "duration": 13,
    "start_time": "2022-05-12T16:07:25.988Z"
   },
   {
    "duration": 603,
    "start_time": "2022-05-12T16:07:26.003Z"
   },
   {
    "duration": 175,
    "start_time": "2022-05-12T16:07:26.608Z"
   },
   {
    "duration": 57,
    "start_time": "2022-05-12T16:07:26.785Z"
   },
   {
    "duration": 26,
    "start_time": "2022-05-12T16:07:26.844Z"
   },
   {
    "duration": 13,
    "start_time": "2022-05-12T16:07:26.872Z"
   },
   {
    "duration": 19,
    "start_time": "2022-05-12T16:07:26.888Z"
   },
   {
    "duration": 1765,
    "start_time": "2022-05-12T16:07:56.323Z"
   },
   {
    "duration": 47,
    "start_time": "2022-05-12T16:07:58.091Z"
   },
   {
    "duration": 15,
    "start_time": "2022-05-12T16:07:58.140Z"
   },
   {
    "duration": 13,
    "start_time": "2022-05-12T16:07:58.166Z"
   },
   {
    "duration": 19,
    "start_time": "2022-05-12T16:07:58.183Z"
   },
   {
    "duration": 10,
    "start_time": "2022-05-12T16:07:58.204Z"
   },
   {
    "duration": 7,
    "start_time": "2022-05-12T16:07:58.216Z"
   },
   {
    "duration": 332,
    "start_time": "2022-05-12T16:07:58.225Z"
   },
   {
    "duration": 116,
    "start_time": "2022-05-12T16:07:58.559Z"
   },
   {
    "duration": 6,
    "start_time": "2022-05-12T16:07:58.678Z"
   },
   {
    "duration": 29,
    "start_time": "2022-05-12T16:07:58.686Z"
   },
   {
    "duration": 12,
    "start_time": "2022-05-12T16:07:58.718Z"
   },
   {
    "duration": 35,
    "start_time": "2022-05-12T16:07:58.732Z"
   },
   {
    "duration": 11,
    "start_time": "2022-05-12T16:07:58.771Z"
   },
   {
    "duration": 114,
    "start_time": "2022-05-12T16:07:58.784Z"
   },
   {
    "duration": 67,
    "start_time": "2022-05-12T16:07:58.900Z"
   },
   {
    "duration": 525,
    "start_time": "2022-05-12T16:07:58.969Z"
   },
   {
    "duration": 164,
    "start_time": "2022-05-12T16:07:59.497Z"
   },
   {
    "duration": 39,
    "start_time": "2022-05-12T16:07:59.666Z"
   },
   {
    "duration": 7,
    "start_time": "2022-05-12T16:07:59.707Z"
   },
   {
    "duration": 16,
    "start_time": "2022-05-12T16:07:59.716Z"
   },
   {
    "duration": 10,
    "start_time": "2022-05-12T16:07:59.735Z"
   },
   {
    "duration": 2113,
    "start_time": "2022-05-12T16:08:28.088Z"
   },
   {
    "duration": 52,
    "start_time": "2022-05-12T16:08:30.205Z"
   },
   {
    "duration": 17,
    "start_time": "2022-05-12T16:08:30.260Z"
   },
   {
    "duration": 19,
    "start_time": "2022-05-12T16:08:30.279Z"
   },
   {
    "duration": 20,
    "start_time": "2022-05-12T16:08:30.301Z"
   },
   {
    "duration": 11,
    "start_time": "2022-05-12T16:08:30.324Z"
   },
   {
    "duration": 36,
    "start_time": "2022-05-12T16:08:30.337Z"
   },
   {
    "duration": 248,
    "start_time": "2022-05-12T16:08:30.375Z"
   },
   {
    "duration": 112,
    "start_time": "2022-05-12T16:08:30.625Z"
   },
   {
    "duration": 5,
    "start_time": "2022-05-12T16:08:30.739Z"
   },
   {
    "duration": 40,
    "start_time": "2022-05-12T16:08:30.747Z"
   },
   {
    "duration": 21,
    "start_time": "2022-05-12T16:08:30.789Z"
   },
   {
    "duration": 15,
    "start_time": "2022-05-12T16:08:30.813Z"
   },
   {
    "duration": 34,
    "start_time": "2022-05-12T16:08:30.832Z"
   },
   {
    "duration": 112,
    "start_time": "2022-05-12T16:08:30.868Z"
   },
   {
    "duration": 9,
    "start_time": "2022-05-12T16:08:30.982Z"
   },
   {
    "duration": 568,
    "start_time": "2022-05-12T16:08:30.993Z"
   },
   {
    "duration": 236,
    "start_time": "2022-05-12T16:08:31.568Z"
   },
   {
    "duration": 73,
    "start_time": "2022-05-12T16:08:31.806Z"
   },
   {
    "duration": 9,
    "start_time": "2022-05-12T16:08:31.882Z"
   },
   {
    "duration": 12,
    "start_time": "2022-05-12T16:08:31.893Z"
   },
   {
    "duration": 35,
    "start_time": "2022-05-12T16:08:31.907Z"
   },
   {
    "duration": 1561,
    "start_time": "2022-05-12T16:09:22.410Z"
   },
   {
    "duration": 3,
    "start_time": "2022-05-12T16:09:23.974Z"
   },
   {
    "duration": 40,
    "start_time": "2022-05-12T16:09:23.978Z"
   },
   {
    "duration": 15,
    "start_time": "2022-05-12T16:09:24.020Z"
   },
   {
    "duration": 34,
    "start_time": "2022-05-12T16:09:24.038Z"
   },
   {
    "duration": 16,
    "start_time": "2022-05-12T16:09:24.074Z"
   },
   {
    "duration": 11,
    "start_time": "2022-05-12T16:09:24.092Z"
   },
   {
    "duration": 9,
    "start_time": "2022-05-12T16:09:24.104Z"
   },
   {
    "duration": 285,
    "start_time": "2022-05-12T16:09:24.115Z"
   },
   {
    "duration": 125,
    "start_time": "2022-05-12T16:09:24.402Z"
   },
   {
    "duration": 5,
    "start_time": "2022-05-12T16:09:24.529Z"
   },
   {
    "duration": 120,
    "start_time": "2022-05-12T16:09:24.536Z"
   },
   {
    "duration": 23,
    "start_time": "2022-05-12T16:09:24.658Z"
   },
   {
    "duration": 39,
    "start_time": "2022-05-12T16:09:24.684Z"
   },
   {
    "duration": 3,
    "start_time": "2022-05-12T16:09:24.725Z"
   },
   {
    "duration": 99,
    "start_time": "2022-05-12T16:09:24.730Z"
   },
   {
    "duration": 136,
    "start_time": "2022-05-12T16:09:24.832Z"
   },
   {
    "duration": 11,
    "start_time": "2022-05-12T16:09:24.970Z"
   },
   {
    "duration": 541,
    "start_time": "2022-05-12T16:09:24.983Z"
   },
   {
    "duration": 166,
    "start_time": "2022-05-12T16:09:25.526Z"
   },
   {
    "duration": 40,
    "start_time": "2022-05-12T16:09:25.694Z"
   },
   {
    "duration": 6,
    "start_time": "2022-05-12T16:09:25.736Z"
   },
   {
    "duration": 8,
    "start_time": "2022-05-12T16:09:25.767Z"
   },
   {
    "duration": 16,
    "start_time": "2022-05-12T16:09:25.777Z"
   },
   {
    "duration": 335,
    "start_time": "2022-05-12T16:10:04.596Z"
   },
   {
    "duration": 1848,
    "start_time": "2022-05-12T16:10:10.649Z"
   },
   {
    "duration": 3,
    "start_time": "2022-05-12T16:10:12.500Z"
   },
   {
    "duration": 42,
    "start_time": "2022-05-12T16:10:12.505Z"
   },
   {
    "duration": 36,
    "start_time": "2022-05-12T16:10:12.549Z"
   },
   {
    "duration": 13,
    "start_time": "2022-05-12T16:10:12.588Z"
   },
   {
    "duration": 31,
    "start_time": "2022-05-12T16:10:12.604Z"
   },
   {
    "duration": 10,
    "start_time": "2022-05-12T16:10:12.637Z"
   },
   {
    "duration": 8,
    "start_time": "2022-05-12T16:10:12.668Z"
   },
   {
    "duration": 360,
    "start_time": "2022-05-12T16:10:12.678Z"
   },
   {
    "duration": 142,
    "start_time": "2022-05-12T16:10:13.040Z"
   },
   {
    "duration": 6,
    "start_time": "2022-05-12T16:10:13.184Z"
   },
   {
    "duration": 141,
    "start_time": "2022-05-12T16:10:13.193Z"
   },
   {
    "duration": 31,
    "start_time": "2022-05-12T16:10:13.336Z"
   },
   {
    "duration": 18,
    "start_time": "2022-05-12T16:10:13.371Z"
   },
   {
    "duration": 11,
    "start_time": "2022-05-12T16:10:13.391Z"
   },
   {
    "duration": 107,
    "start_time": "2022-05-12T16:10:13.405Z"
   },
   {
    "duration": 93,
    "start_time": "2022-05-12T16:10:13.514Z"
   },
   {
    "duration": 64,
    "start_time": "2022-05-12T16:10:13.609Z"
   },
   {
    "duration": 604,
    "start_time": "2022-05-12T16:10:13.676Z"
   },
   {
    "duration": 176,
    "start_time": "2022-05-12T16:10:14.282Z"
   },
   {
    "duration": 46,
    "start_time": "2022-05-12T16:10:14.460Z"
   },
   {
    "duration": 7,
    "start_time": "2022-05-12T16:10:14.507Z"
   },
   {
    "duration": 11,
    "start_time": "2022-05-12T16:10:14.517Z"
   },
   {
    "duration": 39,
    "start_time": "2022-05-12T16:10:14.530Z"
   },
   {
    "duration": 431,
    "start_time": "2022-05-12T16:11:11.169Z"
   },
   {
    "duration": 6,
    "start_time": "2022-05-12T16:11:19.922Z"
   },
   {
    "duration": 1791,
    "start_time": "2022-05-12T16:12:06.151Z"
   },
   {
    "duration": 3,
    "start_time": "2022-05-12T16:12:07.944Z"
   },
   {
    "duration": 47,
    "start_time": "2022-05-12T16:12:07.949Z"
   },
   {
    "duration": 15,
    "start_time": "2022-05-12T16:12:07.997Z"
   },
   {
    "duration": 11,
    "start_time": "2022-05-12T16:12:08.016Z"
   },
   {
    "duration": 20,
    "start_time": "2022-05-12T16:12:08.029Z"
   },
   {
    "duration": 25,
    "start_time": "2022-05-12T16:12:08.051Z"
   },
   {
    "duration": 10,
    "start_time": "2022-05-12T16:12:08.077Z"
   },
   {
    "duration": 273,
    "start_time": "2022-05-12T16:12:08.089Z"
   },
   {
    "duration": 113,
    "start_time": "2022-05-12T16:12:08.367Z"
   },
   {
    "duration": 6,
    "start_time": "2022-05-12T16:12:08.483Z"
   },
   {
    "duration": 11,
    "start_time": "2022-05-12T16:12:08.491Z"
   },
   {
    "duration": 118,
    "start_time": "2022-05-12T16:12:08.503Z"
   },
   {
    "duration": 19,
    "start_time": "2022-05-12T16:12:08.623Z"
   },
   {
    "duration": 143,
    "start_time": "2022-05-12T16:12:08.644Z"
   },
   {
    "duration": 4,
    "start_time": "2022-05-12T16:12:08.789Z"
   },
   {
    "duration": 22,
    "start_time": "2022-05-12T16:12:08.795Z"
   },
   {
    "duration": 84,
    "start_time": "2022-05-12T16:12:08.819Z"
   },
   {
    "duration": 66,
    "start_time": "2022-05-12T16:12:08.906Z"
   },
   {
    "duration": 536,
    "start_time": "2022-05-12T16:12:08.974Z"
   },
   {
    "duration": 174,
    "start_time": "2022-05-12T16:12:09.512Z"
   },
   {
    "duration": 41,
    "start_time": "2022-05-12T16:12:09.687Z"
   },
   {
    "duration": 7,
    "start_time": "2022-05-12T16:12:09.730Z"
   },
   {
    "duration": 32,
    "start_time": "2022-05-12T16:12:09.739Z"
   },
   {
    "duration": 11,
    "start_time": "2022-05-12T16:12:09.774Z"
   },
   {
    "duration": 646,
    "start_time": "2022-05-12T16:13:47.293Z"
   },
   {
    "duration": 1743,
    "start_time": "2022-05-12T16:13:54.882Z"
   },
   {
    "duration": 5,
    "start_time": "2022-05-12T16:13:56.629Z"
   },
   {
    "duration": 54,
    "start_time": "2022-05-12T16:13:56.636Z"
   },
   {
    "duration": 17,
    "start_time": "2022-05-12T16:13:56.692Z"
   },
   {
    "duration": 15,
    "start_time": "2022-05-12T16:13:56.713Z"
   },
   {
    "duration": 43,
    "start_time": "2022-05-12T16:13:56.730Z"
   },
   {
    "duration": 25,
    "start_time": "2022-05-12T16:13:56.775Z"
   },
   {
    "duration": 10,
    "start_time": "2022-05-12T16:13:56.802Z"
   },
   {
    "duration": 380,
    "start_time": "2022-05-12T16:13:56.814Z"
   },
   {
    "duration": 156,
    "start_time": "2022-05-12T16:13:57.197Z"
   },
   {
    "duration": 15,
    "start_time": "2022-05-12T16:13:57.355Z"
   },
   {
    "duration": 7,
    "start_time": "2022-05-12T16:13:57.372Z"
   },
   {
    "duration": 181,
    "start_time": "2022-05-12T16:13:57.381Z"
   },
   {
    "duration": 369,
    "start_time": "2022-05-12T16:13:57.570Z"
   },
   {
    "duration": 29,
    "start_time": "2022-05-12T16:13:57.941Z"
   },
   {
    "duration": 11,
    "start_time": "2022-05-12T16:13:57.972Z"
   },
   {
    "duration": 10,
    "start_time": "2022-05-12T16:13:57.985Z"
   },
   {
    "duration": 11,
    "start_time": "2022-05-12T16:13:57.997Z"
   },
   {
    "duration": 82,
    "start_time": "2022-05-12T16:13:58.010Z"
   },
   {
    "duration": 11,
    "start_time": "2022-05-12T16:13:58.094Z"
   },
   {
    "duration": 521,
    "start_time": "2022-05-12T16:13:58.166Z"
   },
   {
    "duration": 171,
    "start_time": "2022-05-12T16:13:58.690Z"
   },
   {
    "duration": 39,
    "start_time": "2022-05-12T16:13:58.863Z"
   },
   {
    "duration": 7,
    "start_time": "2022-05-12T16:13:58.904Z"
   },
   {
    "duration": 9,
    "start_time": "2022-05-12T16:13:58.913Z"
   },
   {
    "duration": 11,
    "start_time": "2022-05-12T16:13:58.924Z"
   },
   {
    "duration": 5,
    "start_time": "2022-05-12T16:14:52.655Z"
   },
   {
    "duration": 5,
    "start_time": "2022-05-12T16:15:07.959Z"
   },
   {
    "duration": 13,
    "start_time": "2022-05-12T16:16:06.247Z"
   },
   {
    "duration": 198,
    "start_time": "2022-05-12T16:32:53.240Z"
   },
   {
    "duration": 147,
    "start_time": "2022-05-12T16:33:48.184Z"
   },
   {
    "duration": 1679,
    "start_time": "2022-05-12T16:37:32.745Z"
   },
   {
    "duration": 3,
    "start_time": "2022-05-12T16:37:34.427Z"
   },
   {
    "duration": 37,
    "start_time": "2022-05-12T16:37:34.432Z"
   },
   {
    "duration": 12,
    "start_time": "2022-05-12T16:37:34.471Z"
   },
   {
    "duration": 10,
    "start_time": "2022-05-12T16:37:34.485Z"
   },
   {
    "duration": 10,
    "start_time": "2022-05-12T16:37:34.496Z"
   },
   {
    "duration": 7,
    "start_time": "2022-05-12T16:37:34.508Z"
   },
   {
    "duration": 17,
    "start_time": "2022-05-12T16:37:34.516Z"
   },
   {
    "duration": 366,
    "start_time": "2022-05-12T16:37:34.534Z"
   },
   {
    "duration": 105,
    "start_time": "2022-05-12T16:37:34.902Z"
   },
   {
    "duration": 5,
    "start_time": "2022-05-12T16:37:35.009Z"
   },
   {
    "duration": 9,
    "start_time": "2022-05-12T16:37:35.016Z"
   },
   {
    "duration": 112,
    "start_time": "2022-05-12T16:37:35.026Z"
   },
   {
    "duration": 360,
    "start_time": "2022-05-12T16:37:35.140Z"
   },
   {
    "duration": 16,
    "start_time": "2022-05-12T16:37:35.501Z"
   },
   {
    "duration": 11,
    "start_time": "2022-05-12T16:37:35.519Z"
   },
   {
    "duration": 3,
    "start_time": "2022-05-12T16:37:35.532Z"
   },
   {
    "duration": 34,
    "start_time": "2022-05-12T16:37:35.537Z"
   },
   {
    "duration": 36,
    "start_time": "2022-05-12T16:37:35.573Z"
   },
   {
    "duration": 9,
    "start_time": "2022-05-12T16:37:35.667Z"
   },
   {
    "duration": 546,
    "start_time": "2022-05-12T16:37:35.678Z"
   },
   {
    "duration": 156,
    "start_time": "2022-05-12T16:37:36.226Z"
   },
   {
    "duration": 36,
    "start_time": "2022-05-12T16:37:36.384Z"
   },
   {
    "duration": 7,
    "start_time": "2022-05-12T16:37:36.421Z"
   },
   {
    "duration": 8,
    "start_time": "2022-05-12T16:37:36.430Z"
   },
   {
    "duration": 31,
    "start_time": "2022-05-12T16:37:36.439Z"
   },
   {
    "duration": 2136,
    "start_time": "2022-05-12T16:51:20.436Z"
   },
   {
    "duration": 4,
    "start_time": "2022-05-12T16:51:22.575Z"
   },
   {
    "duration": 68,
    "start_time": "2022-05-12T16:51:22.581Z"
   },
   {
    "duration": 18,
    "start_time": "2022-05-12T16:51:22.652Z"
   },
   {
    "duration": 16,
    "start_time": "2022-05-12T16:51:22.674Z"
   },
   {
    "duration": 16,
    "start_time": "2022-05-12T16:51:22.693Z"
   },
   {
    "duration": 15,
    "start_time": "2022-05-12T16:51:22.711Z"
   },
   {
    "duration": 44,
    "start_time": "2022-05-12T16:51:22.729Z"
   },
   {
    "duration": 240,
    "start_time": "2022-05-12T16:51:22.776Z"
   },
   {
    "duration": 106,
    "start_time": "2022-05-12T16:51:23.018Z"
   },
   {
    "duration": 5,
    "start_time": "2022-05-12T16:51:23.126Z"
   },
   {
    "duration": 25,
    "start_time": "2022-05-12T16:51:23.133Z"
   },
   {
    "duration": 97,
    "start_time": "2022-05-12T16:51:23.160Z"
   },
   {
    "duration": 544,
    "start_time": "2022-05-12T16:51:23.260Z"
   },
   {
    "duration": 26,
    "start_time": "2022-05-12T16:51:23.807Z"
   },
   {
    "duration": 34,
    "start_time": "2022-05-12T16:51:23.835Z"
   },
   {
    "duration": 3,
    "start_time": "2022-05-12T16:51:23.871Z"
   },
   {
    "duration": 13,
    "start_time": "2022-05-12T16:51:23.876Z"
   },
   {
    "duration": 111,
    "start_time": "2022-05-12T16:51:23.892Z"
   },
   {
    "duration": 65,
    "start_time": "2022-05-12T16:51:24.005Z"
   },
   {
    "duration": 979,
    "start_time": "2022-05-12T16:51:24.072Z"
   },
   {
    "duration": 202,
    "start_time": "2022-05-12T16:51:25.053Z"
   },
   {
    "duration": 53,
    "start_time": "2022-05-12T16:51:25.257Z"
   },
   {
    "duration": 7,
    "start_time": "2022-05-12T16:51:25.311Z"
   },
   {
    "duration": 11,
    "start_time": "2022-05-12T16:51:25.319Z"
   },
   {
    "duration": 12,
    "start_time": "2022-05-12T16:51:25.332Z"
   },
   {
    "duration": 1686,
    "start_time": "2022-05-12T21:42:11.387Z"
   },
   {
    "duration": 3,
    "start_time": "2022-05-12T21:42:13.075Z"
   },
   {
    "duration": 86,
    "start_time": "2022-05-12T21:42:13.080Z"
   },
   {
    "duration": 11,
    "start_time": "2022-05-12T21:42:13.168Z"
   },
   {
    "duration": 10,
    "start_time": "2022-05-12T21:42:13.182Z"
   },
   {
    "duration": 9,
    "start_time": "2022-05-12T21:42:13.194Z"
   },
   {
    "duration": 7,
    "start_time": "2022-05-12T21:42:13.204Z"
   },
   {
    "duration": 14,
    "start_time": "2022-05-12T21:42:13.212Z"
   },
   {
    "duration": 256,
    "start_time": "2022-05-12T21:42:13.228Z"
   },
   {
    "duration": 108,
    "start_time": "2022-05-12T21:42:13.485Z"
   },
   {
    "duration": 2,
    "start_time": "2022-05-12T21:42:13.595Z"
   },
   {
    "duration": 308,
    "start_time": "2022-05-12T21:42:13.599Z"
   },
   {
    "duration": 8,
    "start_time": "2022-05-12T21:42:13.909Z"
   },
   {
    "duration": 112,
    "start_time": "2022-05-12T21:42:13.920Z"
   },
   {
    "duration": 324,
    "start_time": "2022-05-12T21:42:14.033Z"
   },
   {
    "duration": 26,
    "start_time": "2022-05-12T21:42:14.359Z"
   },
   {
    "duration": 14,
    "start_time": "2022-05-12T21:42:14.386Z"
   },
   {
    "duration": 3,
    "start_time": "2022-05-12T21:42:14.402Z"
   },
   {
    "duration": 14,
    "start_time": "2022-05-12T21:42:14.406Z"
   },
   {
    "duration": 169,
    "start_time": "2022-05-12T21:42:14.422Z"
   },
   {
    "duration": 13,
    "start_time": "2022-05-12T21:42:14.593Z"
   },
   {
    "duration": 1116,
    "start_time": "2022-05-12T21:42:14.608Z"
   },
   {
    "duration": 343,
    "start_time": "2022-05-12T21:42:15.726Z"
   },
   {
    "duration": 96,
    "start_time": "2022-05-12T21:42:16.072Z"
   },
   {
    "duration": 7,
    "start_time": "2022-05-12T21:42:16.170Z"
   },
   {
    "duration": 13,
    "start_time": "2022-05-12T21:42:16.179Z"
   },
   {
    "duration": 10,
    "start_time": "2022-05-12T21:42:16.194Z"
   },
   {
    "duration": 18,
    "start_time": "2022-05-12T21:49:37.109Z"
   },
   {
    "duration": 1655,
    "start_time": "2022-05-12T21:49:46.099Z"
   },
   {
    "duration": 2,
    "start_time": "2022-05-12T21:49:47.757Z"
   },
   {
    "duration": 38,
    "start_time": "2022-05-12T21:49:47.761Z"
   },
   {
    "duration": 12,
    "start_time": "2022-05-12T21:49:47.800Z"
   },
   {
    "duration": 11,
    "start_time": "2022-05-12T21:49:47.814Z"
   },
   {
    "duration": 8,
    "start_time": "2022-05-12T21:49:47.827Z"
   },
   {
    "duration": 7,
    "start_time": "2022-05-12T21:49:47.837Z"
   },
   {
    "duration": 13,
    "start_time": "2022-05-12T21:49:47.867Z"
   },
   {
    "duration": 239,
    "start_time": "2022-05-12T21:49:47.882Z"
   },
   {
    "duration": 103,
    "start_time": "2022-05-12T21:49:48.123Z"
   },
   {
    "duration": 3,
    "start_time": "2022-05-12T21:49:48.228Z"
   },
   {
    "duration": 9,
    "start_time": "2022-05-12T21:49:48.232Z"
   },
   {
    "duration": 4,
    "start_time": "2022-05-12T21:49:48.243Z"
   },
   {
    "duration": 101,
    "start_time": "2022-05-12T21:49:48.266Z"
   },
   {
    "duration": 311,
    "start_time": "2022-05-12T21:49:48.369Z"
   },
   {
    "duration": 20,
    "start_time": "2022-05-12T21:49:48.682Z"
   },
   {
    "duration": 12,
    "start_time": "2022-05-12T21:49:48.704Z"
   },
   {
    "duration": 3,
    "start_time": "2022-05-12T21:49:48.718Z"
   },
   {
    "duration": 54,
    "start_time": "2022-05-12T21:49:48.722Z"
   },
   {
    "duration": 138,
    "start_time": "2022-05-12T21:49:48.779Z"
   },
   {
    "duration": 15,
    "start_time": "2022-05-12T21:49:48.919Z"
   },
   {
    "duration": 1154,
    "start_time": "2022-05-12T21:49:48.936Z"
   },
   {
    "duration": 312,
    "start_time": "2022-05-12T21:49:50.091Z"
   },
   {
    "duration": 88,
    "start_time": "2022-05-12T21:49:50.405Z"
   },
   {
    "duration": 6,
    "start_time": "2022-05-12T21:49:50.495Z"
   },
   {
    "duration": 13,
    "start_time": "2022-05-12T21:49:50.502Z"
   },
   {
    "duration": 10,
    "start_time": "2022-05-12T21:49:50.517Z"
   },
   {
    "duration": 17,
    "start_time": "2022-05-12T21:51:55.924Z"
   },
   {
    "duration": 12,
    "start_time": "2022-05-12T21:52:00.186Z"
   },
   {
    "duration": 3,
    "start_time": "2022-05-12T21:52:01.747Z"
   },
   {
    "duration": 17,
    "start_time": "2022-05-12T21:52:03.241Z"
   },
   {
    "duration": 7,
    "start_time": "2022-05-12T21:52:07.963Z"
   },
   {
    "duration": 70,
    "start_time": "2022-05-12T21:53:04.868Z"
   },
   {
    "duration": 1550,
    "start_time": "2022-05-12T21:53:16.611Z"
   },
   {
    "duration": 3,
    "start_time": "2022-05-12T21:53:18.164Z"
   },
   {
    "duration": 42,
    "start_time": "2022-05-12T21:53:18.169Z"
   },
   {
    "duration": 12,
    "start_time": "2022-05-12T21:53:18.214Z"
   },
   {
    "duration": 12,
    "start_time": "2022-05-12T21:53:18.229Z"
   },
   {
    "duration": 29,
    "start_time": "2022-05-12T21:53:18.244Z"
   },
   {
    "duration": 9,
    "start_time": "2022-05-12T21:53:18.275Z"
   },
   {
    "duration": 18,
    "start_time": "2022-05-12T21:53:18.286Z"
   },
   {
    "duration": 401,
    "start_time": "2022-05-12T21:53:18.306Z"
   },
   {
    "duration": 160,
    "start_time": "2022-05-12T21:53:18.709Z"
   },
   {
    "duration": 3,
    "start_time": "2022-05-12T21:53:18.871Z"
   },
   {
    "duration": 7,
    "start_time": "2022-05-12T21:53:18.876Z"
   },
   {
    "duration": 5,
    "start_time": "2022-05-12T21:53:18.886Z"
   },
   {
    "duration": 181,
    "start_time": "2022-05-12T21:53:18.895Z"
   },
   {
    "duration": 333,
    "start_time": "2022-05-12T21:53:19.078Z"
   },
   {
    "duration": 35,
    "start_time": "2022-05-12T21:53:19.413Z"
   },
   {
    "duration": 31,
    "start_time": "2022-05-12T21:53:19.450Z"
   },
   {
    "duration": 3,
    "start_time": "2022-05-12T21:53:19.483Z"
   },
   {
    "duration": 81,
    "start_time": "2022-05-12T21:53:19.488Z"
   },
   {
    "duration": 195,
    "start_time": "2022-05-12T21:53:19.572Z"
   },
   {
    "duration": 23,
    "start_time": "2022-05-12T21:53:19.770Z"
   },
   {
    "duration": 2209,
    "start_time": "2022-05-12T21:53:19.794Z"
   },
   {
    "duration": 548,
    "start_time": "2022-05-12T21:53:22.005Z"
   },
   {
    "duration": 177,
    "start_time": "2022-05-12T21:53:22.557Z"
   },
   {
    "duration": 134,
    "start_time": "2022-05-12T21:53:22.736Z"
   },
   {
    "duration": 15,
    "start_time": "2022-05-12T21:53:22.873Z"
   },
   {
    "duration": 10,
    "start_time": "2022-05-12T21:53:22.890Z"
   },
   {
    "duration": 2141,
    "start_time": "2022-05-12T21:53:38.001Z"
   },
   {
    "duration": 4,
    "start_time": "2022-05-12T21:53:40.146Z"
   },
   {
    "duration": 41,
    "start_time": "2022-05-12T21:53:40.152Z"
   },
   {
    "duration": 11,
    "start_time": "2022-05-12T21:53:40.195Z"
   },
   {
    "duration": 11,
    "start_time": "2022-05-12T21:53:40.209Z"
   },
   {
    "duration": 12,
    "start_time": "2022-05-12T21:53:40.223Z"
   },
   {
    "duration": 10,
    "start_time": "2022-05-12T21:53:40.268Z"
   },
   {
    "duration": 15,
    "start_time": "2022-05-12T21:53:40.280Z"
   },
   {
    "duration": 393,
    "start_time": "2022-05-12T21:53:40.297Z"
   },
   {
    "duration": 164,
    "start_time": "2022-05-12T21:53:40.693Z"
   },
   {
    "duration": 4,
    "start_time": "2022-05-12T21:53:40.866Z"
   },
   {
    "duration": 5,
    "start_time": "2022-05-12T21:53:40.872Z"
   },
   {
    "duration": 3,
    "start_time": "2022-05-12T21:53:40.879Z"
   },
   {
    "duration": 167,
    "start_time": "2022-05-12T21:53:40.886Z"
   },
   {
    "duration": 500,
    "start_time": "2022-05-12T21:53:41.055Z"
   },
   {
    "duration": 39,
    "start_time": "2022-05-12T21:53:41.557Z"
   },
   {
    "duration": 17,
    "start_time": "2022-05-12T21:53:41.598Z"
   },
   {
    "duration": 3,
    "start_time": "2022-05-12T21:53:41.616Z"
   },
   {
    "duration": 56,
    "start_time": "2022-05-12T21:53:41.621Z"
   },
   {
    "duration": 224,
    "start_time": "2022-05-12T21:53:41.679Z"
   },
   {
    "duration": 30,
    "start_time": "2022-05-12T21:53:41.905Z"
   },
   {
    "duration": 3156,
    "start_time": "2022-05-12T21:53:41.937Z"
   },
   {
    "duration": 537,
    "start_time": "2022-05-12T21:53:45.095Z"
   },
   {
    "duration": 142,
    "start_time": "2022-05-12T21:53:45.635Z"
   },
   {
    "duration": 101,
    "start_time": "2022-05-12T21:53:45.779Z"
   },
   {
    "duration": 10,
    "start_time": "2022-05-12T21:53:45.967Z"
   },
   {
    "duration": 13,
    "start_time": "2022-05-12T21:53:45.979Z"
   },
   {
    "duration": 0,
    "start_time": "2022-05-12T21:57:13.370Z"
   },
   {
    "duration": 27,
    "start_time": "2022-05-12T21:57:15.714Z"
   },
   {
    "duration": 42,
    "start_time": "2022-05-12T21:59:19.405Z"
   },
   {
    "duration": 11,
    "start_time": "2022-05-12T22:00:14.735Z"
   },
   {
    "duration": 29,
    "start_time": "2022-05-12T22:00:18.942Z"
   },
   {
    "duration": 1611,
    "start_time": "2022-05-12T22:00:28.337Z"
   },
   {
    "duration": 3,
    "start_time": "2022-05-12T22:00:29.950Z"
   },
   {
    "duration": 42,
    "start_time": "2022-05-12T22:00:29.954Z"
   },
   {
    "duration": 13,
    "start_time": "2022-05-12T22:00:29.998Z"
   },
   {
    "duration": 21,
    "start_time": "2022-05-12T22:00:30.014Z"
   },
   {
    "duration": 20,
    "start_time": "2022-05-12T22:00:30.037Z"
   },
   {
    "duration": 19,
    "start_time": "2022-05-12T22:00:30.059Z"
   },
   {
    "duration": 21,
    "start_time": "2022-05-12T22:00:30.080Z"
   },
   {
    "duration": 250,
    "start_time": "2022-05-12T22:00:30.103Z"
   },
   {
    "duration": 254,
    "start_time": "2022-05-12T22:00:30.356Z"
   },
   {
    "duration": 133,
    "start_time": "2022-05-12T22:00:30.612Z"
   },
   {
    "duration": 0,
    "start_time": "2022-05-12T22:00:30.747Z"
   },
   {
    "duration": 1,
    "start_time": "2022-05-12T22:00:30.748Z"
   },
   {
    "duration": 0,
    "start_time": "2022-05-12T22:00:30.750Z"
   },
   {
    "duration": 0,
    "start_time": "2022-05-12T22:00:30.751Z"
   },
   {
    "duration": 0,
    "start_time": "2022-05-12T22:00:30.768Z"
   },
   {
    "duration": 0,
    "start_time": "2022-05-12T22:00:30.769Z"
   },
   {
    "duration": 0,
    "start_time": "2022-05-12T22:00:30.771Z"
   },
   {
    "duration": 0,
    "start_time": "2022-05-12T22:00:30.772Z"
   },
   {
    "duration": 0,
    "start_time": "2022-05-12T22:00:30.773Z"
   },
   {
    "duration": 0,
    "start_time": "2022-05-12T22:00:30.774Z"
   },
   {
    "duration": 0,
    "start_time": "2022-05-12T22:00:30.872Z"
   },
   {
    "duration": 1,
    "start_time": "2022-05-12T22:00:30.873Z"
   },
   {
    "duration": 5,
    "start_time": "2022-05-12T22:01:27.953Z"
   },
   {
    "duration": 1507,
    "start_time": "2022-05-12T22:02:17.219Z"
   },
   {
    "duration": 3,
    "start_time": "2022-05-12T22:02:18.728Z"
   },
   {
    "duration": 43,
    "start_time": "2022-05-12T22:02:18.733Z"
   },
   {
    "duration": 13,
    "start_time": "2022-05-12T22:02:18.778Z"
   },
   {
    "duration": 10,
    "start_time": "2022-05-12T22:02:18.793Z"
   },
   {
    "duration": 9,
    "start_time": "2022-05-12T22:02:18.804Z"
   },
   {
    "duration": 6,
    "start_time": "2022-05-12T22:02:18.814Z"
   },
   {
    "duration": 12,
    "start_time": "2022-05-12T22:02:18.822Z"
   },
   {
    "duration": 257,
    "start_time": "2022-05-12T22:02:18.836Z"
   },
   {
    "duration": 625,
    "start_time": "2022-05-12T22:02:19.095Z"
   },
   {
    "duration": 221,
    "start_time": "2022-05-12T22:02:19.721Z"
   },
   {
    "duration": 39,
    "start_time": "2022-05-12T22:02:19.943Z"
   },
   {
    "duration": 16,
    "start_time": "2022-05-12T22:02:19.984Z"
   },
   {
    "duration": 2,
    "start_time": "2022-05-12T22:02:20.003Z"
   },
   {
    "duration": 60,
    "start_time": "2022-05-12T22:02:20.008Z"
   },
   {
    "duration": 184,
    "start_time": "2022-05-12T22:02:20.070Z"
   },
   {
    "duration": 31,
    "start_time": "2022-05-12T22:02:20.256Z"
   },
   {
    "duration": 2087,
    "start_time": "2022-05-12T22:02:20.288Z"
   },
   {
    "duration": 501,
    "start_time": "2022-05-12T22:02:22.377Z"
   },
   {
    "duration": 137,
    "start_time": "2022-05-12T22:02:22.880Z"
   },
   {
    "duration": 52,
    "start_time": "2022-05-12T22:02:23.018Z"
   },
   {
    "duration": 102,
    "start_time": "2022-05-12T22:02:23.072Z"
   },
   {
    "duration": 11,
    "start_time": "2022-05-12T22:02:23.176Z"
   },
   {
    "duration": 1807,
    "start_time": "2022-05-12T22:04:20.787Z"
   },
   {
    "duration": 3,
    "start_time": "2022-05-12T22:04:22.597Z"
   },
   {
    "duration": 44,
    "start_time": "2022-05-12T22:04:22.602Z"
   },
   {
    "duration": 11,
    "start_time": "2022-05-12T22:04:22.648Z"
   },
   {
    "duration": 11,
    "start_time": "2022-05-12T22:04:22.661Z"
   },
   {
    "duration": 12,
    "start_time": "2022-05-12T22:04:22.674Z"
   },
   {
    "duration": 9,
    "start_time": "2022-05-12T22:04:22.687Z"
   },
   {
    "duration": 21,
    "start_time": "2022-05-12T22:04:22.698Z"
   },
   {
    "duration": 392,
    "start_time": "2022-05-12T22:04:22.721Z"
   },
   {
    "duration": 689,
    "start_time": "2022-05-12T22:04:23.115Z"
   },
   {
    "duration": 296,
    "start_time": "2022-05-12T22:04:23.805Z"
   },
   {
    "duration": 24,
    "start_time": "2022-05-12T22:04:24.103Z"
   },
   {
    "duration": 16,
    "start_time": "2022-05-12T22:04:24.128Z"
   },
   {
    "duration": 3,
    "start_time": "2022-05-12T22:04:24.168Z"
   },
   {
    "duration": 95,
    "start_time": "2022-05-12T22:04:24.172Z"
   },
   {
    "duration": 188,
    "start_time": "2022-05-12T22:04:24.269Z"
   },
   {
    "duration": 23,
    "start_time": "2022-05-12T22:04:24.468Z"
   },
   {
    "duration": 2255,
    "start_time": "2022-05-12T22:04:24.493Z"
   },
   {
    "duration": 538,
    "start_time": "2022-05-12T22:04:26.751Z"
   },
   {
    "duration": 146,
    "start_time": "2022-05-12T22:04:27.291Z"
   },
   {
    "duration": 130,
    "start_time": "2022-05-12T22:04:27.439Z"
   },
   {
    "duration": 20,
    "start_time": "2022-05-12T22:04:27.571Z"
   },
   {
    "duration": 78,
    "start_time": "2022-05-12T22:04:27.593Z"
   },
   {
    "duration": 191,
    "start_time": "2022-05-12T22:13:14.751Z"
   },
   {
    "duration": 174,
    "start_time": "2022-05-12T22:14:00.872Z"
   },
   {
    "duration": 139,
    "start_time": "2022-05-12T22:14:28.328Z"
   },
   {
    "duration": 126,
    "start_time": "2022-05-12T22:15:18.909Z"
   },
   {
    "duration": 116,
    "start_time": "2022-05-12T22:29:10.127Z"
   },
   {
    "duration": 6,
    "start_time": "2022-05-12T22:29:30.071Z"
   },
   {
    "duration": 6,
    "start_time": "2022-05-12T22:30:02.632Z"
   },
   {
    "duration": 1628,
    "start_time": "2022-05-12T22:32:32.209Z"
   },
   {
    "duration": 3,
    "start_time": "2022-05-12T22:32:33.839Z"
   },
   {
    "duration": 41,
    "start_time": "2022-05-12T22:32:33.843Z"
   },
   {
    "duration": 11,
    "start_time": "2022-05-12T22:32:33.886Z"
   },
   {
    "duration": 10,
    "start_time": "2022-05-12T22:32:33.899Z"
   },
   {
    "duration": 9,
    "start_time": "2022-05-12T22:32:33.910Z"
   },
   {
    "duration": 6,
    "start_time": "2022-05-12T22:32:33.921Z"
   },
   {
    "duration": 48,
    "start_time": "2022-05-12T22:32:33.929Z"
   },
   {
    "duration": 228,
    "start_time": "2022-05-12T22:32:33.978Z"
   },
   {
    "duration": 672,
    "start_time": "2022-05-12T22:32:34.208Z"
   },
   {
    "duration": 126,
    "start_time": "2022-05-12T22:32:34.882Z"
   },
   {
    "duration": 247,
    "start_time": "2022-05-12T22:32:35.010Z"
   },
   {
    "duration": 28,
    "start_time": "2022-05-12T22:32:35.259Z"
   },
   {
    "duration": 17,
    "start_time": "2022-05-12T22:32:35.290Z"
   },
   {
    "duration": 5,
    "start_time": "2022-05-12T22:32:35.308Z"
   },
   {
    "duration": 5,
    "start_time": "2022-05-12T22:32:35.314Z"
   },
   {
    "duration": 56,
    "start_time": "2022-05-12T22:32:35.321Z"
   },
   {
    "duration": 224,
    "start_time": "2022-05-12T22:32:35.379Z"
   },
   {
    "duration": 28,
    "start_time": "2022-05-12T22:32:35.605Z"
   },
   {
    "duration": 2853,
    "start_time": "2022-05-12T22:32:35.636Z"
   },
   {
    "duration": 515,
    "start_time": "2022-05-12T22:32:38.491Z"
   },
   {
    "duration": 146,
    "start_time": "2022-05-12T22:32:39.008Z"
   },
   {
    "duration": 5,
    "start_time": "2022-05-12T22:32:39.156Z"
   },
   {
    "duration": 101,
    "start_time": "2022-05-12T22:32:39.167Z"
   },
   {
    "duration": 104,
    "start_time": "2022-05-12T22:32:39.271Z"
   },
   {
    "duration": 10,
    "start_time": "2022-05-12T22:32:39.376Z"
   }
  ],
  "kernelspec": {
   "display_name": "Python 3 (ipykernel)",
   "language": "python",
   "name": "python3"
  },
  "language_info": {
   "codemirror_mode": {
    "name": "ipython",
    "version": 3
   },
   "file_extension": ".py",
   "mimetype": "text/x-python",
   "name": "python",
   "nbconvert_exporter": "python",
   "pygments_lexer": "ipython3",
   "version": "3.8.12"
  },
  "toc": {
   "base_numbering": 1,
   "nav_menu": {},
   "number_sections": true,
   "sideBar": true,
   "skip_h1_title": true,
   "title_cell": "Table of Contents",
   "title_sidebar": "Contents",
   "toc_cell": false,
   "toc_position": {},
   "toc_section_display": true,
   "toc_window_display": false
  }
 },
 "nbformat": 4,
 "nbformat_minor": 2
}
